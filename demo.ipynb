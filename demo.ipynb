{
 "cells": [
  {
   "cell_type": "code",
   "execution_count": 1,
   "metadata": {},
   "outputs": [
    {
     "name": "stderr",
     "output_type": "stream",
     "text": [
      "INFO: org.esa.s2tbx.dataio.gdal.GDALVersion: Incompatible GDAL 3.8.5 found on system. Internal GDAL 3.0.0 from distribution will be used.\n",
      "INFO: org.esa.s2tbx.dataio.gdal.GDALVersion: Internal GDAL 3.0.0 set to be used by SNAP.\n",
      "INFO: org.esa.snap.core.gpf.operators.tooladapter.ToolAdapterIO: Initializing external tool adapters\n",
      "INFO: org.esa.snap.core.util.EngineVersionCheckActivator: Please check regularly for new updates for the best SNAP experience.\n"
     ]
    }
   ],
   "source": [
    "from snapista import Graph\n",
    "from snapista import Operator\n",
    "from snapista import TargetBand\n",
    "from snapista import TargetBandDescriptors"
   ]
  },
  {
   "cell_type": "code",
   "execution_count": 2,
   "metadata": {},
   "outputs": [
    {
     "data": {
      "text/plain": [
       "Operator('Read', file='/data/S2B_MSIL2A_20210608T112119_N0300_R037_T29SMC_20210608T131325.SAFE/MTD_MSIL2A.xml', formatName='None', bandNames='None', maskNames='None', pixelRegion='None', geometryRegion='None', copyMetadata='true')"
      ]
     },
     "execution_count": 2,
     "metadata": {},
     "output_type": "execute_result"
    }
   ],
   "source": [
    "r = Operator(\"Read\", file='/data/S2B_MSIL2A_20210608T112119_N0300_R037_T29SMC_20210608T131325.SAFE/MTD_MSIL2A.xml')\n",
    "r"
   ]
  },
  {
   "cell_type": "markdown",
   "metadata": {},
   "source": [
    "## Operator"
   ]
  },
  {
   "cell_type": "markdown",
   "metadata": {},
   "source": [
    "Instantiate a SNAP operator by providing its name:"
   ]
  },
  {
   "cell_type": "code",
   "execution_count": 3,
   "metadata": {},
   "outputs": [
    {
     "data": {
      "text/plain": [
       "Operator('Calibration', sourceBandNames='None', auxFile='Latest Auxiliary File', externalAuxFile='None', outputImageInComplex='false', outputImageScaleInDb='false', createGammaBand='false', createBetaBand='false', selectedPolarisations='None', outputSigmaBand='true', outputGammaBand='false', outputBetaBand='false')"
      ]
     },
     "execution_count": 3,
     "metadata": {},
     "output_type": "execute_result"
    }
   ],
   "source": [
    "calibration = Operator('Calibration')\n",
    "calibration"
   ]
  },
  {
   "cell_type": "markdown",
   "metadata": {},
   "source": [
    "Get the SNAP Operator description:"
   ]
  },
  {
   "cell_type": "code",
   "execution_count": 4,
   "metadata": {},
   "outputs": [
    {
     "name": "stdout",
     "output_type": "stream",
     "text": [
      "Operator name: Calibration\n",
      "\n",
      "Description: Calibration of products\n",
      "Authors: Jun Lu, Luis Veci\n",
      "\n",
      "org.esa.s1tbx.calibration.gpf.CalibrationOp\n",
      "Version: 1.0\n",
      "\n",
      "Parameters:\n",
      "\n",
      "\tsourceBandNames: The list of source bands.\n",
      "\t\tDefault Value: None\n",
      "\n",
      "\t\tPossible values: []\n",
      "\n",
      "\tauxFile: The auxiliary file\n",
      "\t\tDefault Value: Latest Auxiliary File\n",
      "\n",
      "\t\tPossible values: ['Latest Auxiliary File', 'Product Auxiliary File', 'External Auxiliary File']\n",
      "\n",
      "\texternalAuxFile: The antenna elevation pattern gain auxiliary data file.\n",
      "\t\tDefault Value: None\n",
      "\n",
      "\t\tPossible values: []\n",
      "\n",
      "\toutputImageInComplex: Output image in complex\n",
      "\t\tDefault Value: false\n",
      "\n",
      "\t\tPossible values: []\n",
      "\n",
      "\toutputImageScaleInDb: Output image scale\n",
      "\t\tDefault Value: false\n",
      "\n",
      "\t\tPossible values: []\n",
      "\n",
      "\tcreateGammaBand: Create gamma0 virtual band\n",
      "\t\tDefault Value: false\n",
      "\n",
      "\t\tPossible values: []\n",
      "\n",
      "\tcreateBetaBand: Create beta0 virtual band\n",
      "\t\tDefault Value: false\n",
      "\n",
      "\t\tPossible values: []\n",
      "\n",
      "\tselectedPolarisations: The list of polarisations\n",
      "\t\tDefault Value: None\n",
      "\n",
      "\t\tPossible values: []\n",
      "\n",
      "\toutputSigmaBand: Output sigma0 band\n",
      "\t\tDefault Value: true\n",
      "\n",
      "\t\tPossible values: []\n",
      "\n",
      "\toutputGammaBand: Output gamma0 band\n",
      "\t\tDefault Value: false\n",
      "\n",
      "\t\tPossible values: []\n",
      "\n",
      "\toutputBetaBand: Output beta0 band\n",
      "\t\tDefault Value: false\n",
      "\n",
      "\t\tPossible values: []\n",
      "\n"
     ]
    }
   ],
   "source": [
    "calibration.describe()"
   ]
  },
  {
   "cell_type": "markdown",
   "metadata": {},
   "source": [
    "Instantiate a SNAP operator by providing its name and update a parameter value"
   ]
  },
  {
   "cell_type": "code",
   "execution_count": 5,
   "metadata": {},
   "outputs": [
    {
     "data": {
      "text/plain": [
       "['__class__',\n",
       " '__delattr__',\n",
       " '__dict__',\n",
       " '__dir__',\n",
       " '__doc__',\n",
       " '__eq__',\n",
       " '__format__',\n",
       " '__ge__',\n",
       " '__getattribute__',\n",
       " '__gt__',\n",
       " '__hash__',\n",
       " '__init__',\n",
       " '__init_subclass__',\n",
       " '__le__',\n",
       " '__lt__',\n",
       " '__module__',\n",
       " '__ne__',\n",
       " '__new__',\n",
       " '__reduce__',\n",
       " '__reduce_ex__',\n",
       " '__repr__',\n",
       " '__setattr__',\n",
       " '__sizeof__',\n",
       " '__str__',\n",
       " '__subclasshook__',\n",
       " '__weakref__',\n",
       " '_get_formats',\n",
       " '_params',\n",
       " 'auxFile',\n",
       " 'createBetaBand',\n",
       " 'createGammaBand',\n",
       " 'describe',\n",
       " 'externalAuxFile',\n",
       " 'operator',\n",
       " 'outputBetaBand',\n",
       " 'outputGammaBand',\n",
       " 'outputImageInComplex',\n",
       " 'outputImageScaleInDb',\n",
       " 'outputSigmaBand',\n",
       " 'selectedPolarisations',\n",
       " 'sourceBandNames',\n",
       " 'to_dict']"
      ]
     },
     "execution_count": 5,
     "metadata": {},
     "output_type": "execute_result"
    }
   ],
   "source": [
    "dir(calibration)"
   ]
  },
  {
   "cell_type": "code",
   "execution_count": 6,
   "metadata": {},
   "outputs": [
    {
     "data": {
      "text/plain": [
       "Operator('Calibration', sourceBandNames='None', auxFile='Latest Auxiliary File', externalAuxFile='None', outputImageInComplex='false', outputImageScaleInDb='false', createGammaBand='false', createBetaBand='true', selectedPolarisations='None', outputSigmaBand='true', outputGammaBand='false', outputBetaBand='false')"
      ]
     },
     "execution_count": 6,
     "metadata": {},
     "output_type": "execute_result"
    }
   ],
   "source": [
    "calibration.createBetaBand = 'true'\n",
    "calibration"
   ]
  },
  {
   "cell_type": "markdown",
   "metadata": {},
   "source": [
    "Instantiate a SNAP operator by providing its name and setting the values in the constructor "
   ]
  },
  {
   "cell_type": "code",
   "execution_count": 7,
   "metadata": {},
   "outputs": [
    {
     "data": {
      "text/plain": [
       "Operator('Calibration', sourceBandNames='None', auxFile='Latest Auxiliary File', externalAuxFile='None', outputImageInComplex='false', outputImageScaleInDb='false', createGammaBand='true', createBetaBand='true', selectedPolarisations='None', outputSigmaBand='true', outputGammaBand='false', outputBetaBand='false')"
      ]
     },
     "execution_count": 7,
     "metadata": {},
     "output_type": "execute_result"
    }
   ],
   "source": [
    "calibration = Operator('Calibration', \n",
    "                       createBetaBand='true', \n",
    "                       createGammaBand='true')\n",
    "\n",
    "calibration"
   ]
  },
  {
   "cell_type": "markdown",
   "metadata": {},
   "source": [
    "## Graph"
   ]
  },
  {
   "cell_type": "markdown",
   "metadata": {},
   "source": [
    "Create a graph:"
   ]
  },
  {
   "cell_type": "code",
   "execution_count": 8,
   "metadata": {},
   "outputs": [
    {
     "name": "stdout",
     "output_type": "stream",
     "text": [
      "gpt binary: /home/erentar/.local/share/miniforge3/envs/snapista/snap/bin/gpt\n",
      "working dir: .\n",
      "\n",
      "<graph>\n",
      "  <version>1.0</version>\n",
      "</graph>\n",
      "\n"
     ]
    }
   ],
   "source": [
    "g = Graph()\n",
    "print(g)"
   ]
  },
  {
   "cell_type": "markdown",
   "metadata": {},
   "source": [
    "Add two nodes:"
   ]
  },
  {
   "cell_type": "code",
   "execution_count": 9,
   "metadata": {},
   "outputs": [],
   "source": [
    "g.add_node(operator=Operator('Read'), \n",
    "           node_id='read_1')\n",
    "\n",
    "calibration = Operator('Calibration')\n",
    "\n",
    "calibration.createBetaBand = 'false'\n",
    "\n",
    "g.add_node(operator=calibration, \n",
    "           node_id='calibration', \n",
    "           source='read_1')"
   ]
  },
  {
   "cell_type": "code",
   "execution_count": 10,
   "metadata": {},
   "outputs": [
    {
     "name": "stdout",
     "output_type": "stream",
     "text": [
      "<graph>\n",
      "  <version>1.0</version>\n",
      "  <node id=\"read_1\">\n",
      "    <operator>Read</operator>\n",
      "    <sources/>\n",
      "    <parameters class=\"com.bc.ceres.binding.dom.XppDomElement\">\n",
      "      <bandNames/>\n",
      "      <copyMetadata>true</copyMetadata>\n",
      "      <file/>\n",
      "      <formatName/>\n",
      "      <geometryRegion/>\n",
      "      <maskNames/>\n",
      "      <pixelRegion/>\n",
      "    </parameters>\n",
      "  </node>\n",
      "  <node id=\"calibration\">\n",
      "    <operator>Calibration</operator>\n",
      "    <sources>\n",
      "      <sourceProduct refid=\"read_1\"/>\n",
      "    </sources>\n",
      "    <parameters class=\"com.bc.ceres.binding.dom.XppDomElement\">\n",
      "      <auxFile>Latest Auxiliary File</auxFile>\n",
      "      <createBetaBand>false</createBetaBand>\n",
      "      <createGammaBand>false</createGammaBand>\n",
      "      <externalAuxFile/>\n",
      "      <outputBetaBand>false</outputBetaBand>\n",
      "      <outputGammaBand>false</outputGammaBand>\n",
      "      <outputImageInComplex>false</outputImageInComplex>\n",
      "      <outputImageScaleInDb>false</outputImageScaleInDb>\n",
      "      <outputSigmaBand>true</outputSigmaBand>\n",
      "      <selectedPolarisations/>\n",
      "      <sourceBandNames/>\n",
      "    </parameters>\n",
      "  </node>\n",
      "</graph>\n",
      "\n"
     ]
    }
   ],
   "source": [
    "g.view()"
   ]
  },
  {
   "cell_type": "code",
   "execution_count": 11,
   "metadata": {},
   "outputs": [
    {
     "name": "stdout",
     "output_type": "stream",
     "text": [
      "gpt binary: /home/erentar/.local/share/miniforge3/envs/snapista/snap/bin/gpt\n",
      "working dir: .\n",
      "\n",
      "<graph>\n",
      "  <version>1.0</version>\n",
      "  <node id=\"read_1\">\n",
      "    <operator>Read</operator>\n",
      "    <sources/>\n",
      "    <parameters class=\"com.bc.ceres.binding.dom.XppDomElement\">\n",
      "      <bandNames/>\n",
      "      <copyMetadata>true</copyMetadata>\n",
      "      <file/>\n",
      "      <formatName/>\n",
      "      <geometryRegion/>\n",
      "      <maskNames/>\n",
      "      <pixelRegion/>\n",
      "    </parameters>\n",
      "  </node>\n",
      "  <node id=\"calibration\">\n",
      "    <operator>Calibration</operator>\n",
      "    <sources>\n",
      "      <sourceProduct refid=\"read_1\"/>\n",
      "    </sources>\n",
      "    <parameters class=\"com.bc.ceres.binding.dom.XppDomElement\">\n",
      "      <auxFile>Latest Auxiliary File</auxFile>\n",
      "      <createBetaBand>false</createBetaBand>\n",
      "      <createGammaBand>false</createGammaBand>\n",
      "      <externalAuxFile/>\n",
      "      <outputBetaBand>false</outputBetaBand>\n",
      "      <outputGammaBand>false</outputGammaBand>\n",
      "      <outputImageInComplex>false</outputImageInComplex>\n",
      "      <outputImageScaleInDb>false</outputImageScaleInDb>\n",
      "      <outputSigmaBand>true</outputSigmaBand>\n",
      "      <selectedPolarisations/>\n",
      "      <sourceBandNames/>\n",
      "    </parameters>\n",
      "  </node>\n",
      "</graph>\n",
      "\n"
     ]
    }
   ],
   "source": [
    "print(g)"
   ]
  },
  {
   "cell_type": "markdown",
   "metadata": {},
   "source": [
    "Get a list of the SNAP operators"
   ]
  },
  {
   "cell_type": "code",
   "execution_count": 12,
   "metadata": {},
   "outputs": [
    {
     "data": {
      "text/plain": [
       "['Meris.Brr',\n",
       " 'BandsExtractorOp',\n",
       " 'ArviOp',\n",
       " 'Biophysical10mOp',\n",
       " 'BiOp',\n",
       " 'Binning',\n",
       " 'Minimum-Distance-Classifier',\n",
       " 'Ellipsoid-Correction-GG',\n",
       " 'StatisticsOp',\n",
       " 'CloudProb',\n",
       " 'S2tbx-Reproject',\n",
       " 'Polarimetric-Parameters',\n",
       " 'Collocate',\n",
       " 'FillBand',\n",
       " 'Orientation-Angle-Correction',\n",
       " 'Forest-Area-Detection',\n",
       " 'AddElevation',\n",
       " 'MndwiOp',\n",
       " 'Undersample',\n",
       " 'AddLandCover',\n",
       " 'TOPSAR-Split',\n",
       " 'Remodulate',\n",
       " 'c2rcc.olci',\n",
       " 'SAR-Simulation',\n",
       " 'PhaseToDisplacement',\n",
       " 'Meris.CombinedCloud',\n",
       " 'EAP-Phase-Correction',\n",
       " 'Meris.LandClassification',\n",
       " 'GemiOp',\n",
       " 'Faraday-Rotation-Correction',\n",
       " 'BiophysicalLandsat8Op',\n",
       " 'c2rcc.viirs',\n",
       " 'MtciOp',\n",
       " 'Rad2Refl',\n",
       " 'AATSR.Ungrid',\n",
       " 'Unmix',\n",
       " 'Remove-GRD-Border-Noise',\n",
       " 'Multitemporal-Compositing',\n",
       " 'Compactpol-Radar-Vegetation-Index',\n",
       " 'ForestCoverChangeOp',\n",
       " 'TemporalPercentile',\n",
       " 'Terrain-Mask',\n",
       " 'RemoteExecutionOp',\n",
       " 'Ellipsoid-Correction-RD',\n",
       " 'GaborFilter',\n",
       " 'GaseousAbsorption',\n",
       " 'OWTClassification',\n",
       " 'DEM-Assisted-Coregistration',\n",
       " 'Multi-Temporal-Speckle-Filter',\n",
       " 'Calibration',\n",
       " 'PCA',\n",
       " 'L3ToL1',\n",
       " 'SARSim-Terrain-Correction',\n",
       " 'WriteRGB',\n",
       " 'BandMaths',\n",
       " 'Polarimetric-Speckle-Filter',\n",
       " 'Flood-Detection',\n",
       " 'Convert-Datatype',\n",
       " 'GoldsteinPhaseFiltering',\n",
       " 'SetNoDataValue',\n",
       " 'Multilook',\n",
       " 'Meris.CloudClassification',\n",
       " 'PviOp',\n",
       " 'SpectralAngleMapperOp',\n",
       " 'Image-Filter',\n",
       " 'MultiMasterStackGenerator',\n",
       " 'CP-Decomposition',\n",
       " 'GLCM',\n",
       " 'SmacOp',\n",
       " 'SaviOp',\n",
       " 'RRToFRS',\n",
       " 'RiOp',\n",
       " 'Reproject',\n",
       " 'AzimuthFilter',\n",
       " 'Back-Geocoding',\n",
       " 'PassThrough',\n",
       " 'Warp',\n",
       " 'Resample',\n",
       " 'Cross-Channel-SNR-Correction',\n",
       " 'Supervised-Wishart-Classification',\n",
       " 'NdviOp',\n",
       " 'Terrain-Correction',\n",
       " 'Land-Sea-Mask',\n",
       " 'MphChlMeris',\n",
       " 'PssraOp',\n",
       " 'Meris.GaseousCorrection',\n",
       " 'Meris.Mod08Aerosol',\n",
       " 'TOPSAR-Merge',\n",
       " 'Enhanced-Spectral-Diversity',\n",
       " 'SubGraph',\n",
       " 'Import-Vector',\n",
       " 'Double-Difference-Interferogram',\n",
       " 'Generalized-Radar-Vegetation-Index',\n",
       " 'Oil-Spill-Detection',\n",
       " 'MoreThenAnIntegerOp',\n",
       " 'LinearToFromdB',\n",
       " 'NdpiOp',\n",
       " 'CoregistrationOp',\n",
       " 'c2rcc.meris4',\n",
       " 'Stack-Split',\n",
       " 'PyOp',\n",
       " 'RangeFilter',\n",
       " 'MphChlOlci',\n",
       " 'Msavi2Op',\n",
       " 'GndviOp',\n",
       " 'CreateStack',\n",
       " 'RemoveAntennaPattern',\n",
       " 'Polarimetric-Classification',\n",
       " 'CiOp',\n",
       " 'Meris.CloudShadow',\n",
       " 'Meris.CloudTopPressureOp',\n",
       " 'MsaviOp',\n",
       " 'SliceAssembly',\n",
       " 'Write',\n",
       " 'Stack-Averaging',\n",
       " 'Update-Geo-Reference',\n",
       " 'ALOS-Deskewing',\n",
       " 'SnaphuImport',\n",
       " 'Maximum-Likelihood-Classifier',\n",
       " 'PpeFiltering',\n",
       " 'TopoPhaseRemoval',\n",
       " 'Ndwi2Op',\n",
       " 'RayleighCorrection',\n",
       " 'SRGR',\n",
       " 'Flip',\n",
       " 'FlhMci',\n",
       " 'PduStitching',\n",
       " 'Arc.SST',\n",
       " 'FuClassification',\n",
       " 'Meris.CorrectRadiometry',\n",
       " 'Speckle-Divergence',\n",
       " 'Fill-DEM-Hole',\n",
       " 'GenericRegionMergingOp',\n",
       " 'SmileCorrection.Olci',\n",
       " 'Demodulate',\n",
       " 'TOPSAR-DerampDemod',\n",
       " 'Principle-Components',\n",
       " 'GRD-Post',\n",
       " 'LandWaterMask',\n",
       " 'c2rcc.seawifs',\n",
       " 'Mci.s2',\n",
       " 'CP-Stokes-Parameters',\n",
       " 'EMClusterAnalysis',\n",
       " 'TileWriter',\n",
       " 'Wind-Field-Estimation',\n",
       " 'RviOp',\n",
       " 'Meris.AerosolMerger',\n",
       " 'SnaphuExport',\n",
       " 'ProductSet-Reader',\n",
       " 'Aatsr.SST',\n",
       " 'FillAerosol',\n",
       " 'Azimuth-Shift-Estimation-ESD',\n",
       " 'OlciO2aHarmonisation',\n",
       " 'IpviOp',\n",
       " 'S2repOp',\n",
       " 'AdaptiveThresholding',\n",
       " 'c2rcc',\n",
       " 'Radar-Vegetation-Index',\n",
       " 'StoredGraph',\n",
       " 'Subset',\n",
       " 'Terrain-Flattening',\n",
       " 'Meris.Sdr',\n",
       " 'DviOp',\n",
       " 'Mosaic',\n",
       " 'IEM-Multi-Angle-Inversion',\n",
       " 'c2rcc.msi',\n",
       " 'Apply-Orbit-File',\n",
       " 'Merge',\n",
       " 'Ndi45Op',\n",
       " 'TsaviOp',\n",
       " 'c2rcc.landsat7',\n",
       " 'TndviOp',\n",
       " 'ReipOp',\n",
       " 'Multi-size Mosaic',\n",
       " 'McariOp',\n",
       " 'BandMerge',\n",
       " 'Find-Image-Pair',\n",
       " 'Forest-Area-Classification',\n",
       " 'Cross-Correlation',\n",
       " 'c2rcc.modis',\n",
       " 'StampsExport',\n",
       " 'DecisionTree',\n",
       " 'IEM-Multi-Pol-Inversion',\n",
       " 'BandSelect',\n",
       " 'Interferogram',\n",
       " 'KNN-Classifier',\n",
       " 'TestPattern',\n",
       " 'KMeansClusterAnalysis',\n",
       " 'SAR-Mosaic',\n",
       " 'Bi2Op',\n",
       " 'MphChlBasis',\n",
       " 'KDTree-KNN-Classifier',\n",
       " 'Meris.N1Patcher',\n",
       " 'Oil-Spill-Clustering',\n",
       " 'Object-Discrimination',\n",
       " 'WdviOp',\n",
       " 'DeburstWSS',\n",
       " 'TOPSAR-Deburst',\n",
       " 'Meris.SmileCorrection',\n",
       " 'Read',\n",
       " 'Meris.CloudProbability',\n",
       " 'Random-Forest-Classifier',\n",
       " 'Polarimetric-Matrices',\n",
       " 'TileCache',\n",
       " 'Meris.GapLessSdr',\n",
       " 'Speckle-Filter',\n",
       " 'CP-Simulation',\n",
       " 'Meris.BlueBand',\n",
       " 'Three-passDInSAR',\n",
       " 'IreciOp',\n",
       " 'Oversample',\n",
       " 'Land-Cover-Mask',\n",
       " 'BiophysicalOp',\n",
       " 'FUB.Water',\n",
       " 'S2Resampling',\n",
       " 'NdtiOp',\n",
       " 'Change-Detection',\n",
       " 'ReplaceMetadata',\n",
       " 'SM-Dielectric-Modeling',\n",
       " 'PhaseToElevation',\n",
       " 'Coherence',\n",
       " 'IEM-Hybrid-Inversion',\n",
       " 'Offset-Tracking',\n",
       " 'PhaseToHeight',\n",
       " 'Meris.RayleighCorrection',\n",
       " 'MphChl',\n",
       " 'ReflectanceToRadianceOp',\n",
       " 'c2rcc.landsat8',\n",
       " 'ToolAdapterOp',\n",
       " 'CrossResampling',\n",
       " 'SimulateAmplitude',\n",
       " 'IntegerInterferogram',\n",
       " 'Compute-Slope-Aspect',\n",
       " 'ThermalNoiseRemoval',\n",
       " 'PixEx',\n",
       " 'Polarimetric-Decomposition',\n",
       " 'NdwiOp',\n",
       " 'c2rcc.meris',\n",
       " 'BandsDifferenceOp',\n",
       " 'Data-Analysis']"
      ]
     },
     "execution_count": 12,
     "metadata": {},
     "output_type": "execute_result"
    }
   ],
   "source": [
    "Graph.list_operators()"
   ]
  },
  {
   "cell_type": "code",
   "execution_count": 13,
   "metadata": {},
   "outputs": [
    {
     "name": "stdout",
     "output_type": "stream",
     "text": [
      "RangeFilter - Range Filter\n",
      "TndviOp - Transformed Normalized Difference Vegetation Index retrieves the Isovegetation lines parallel to soil line\n",
      "KDTree-KNN-Classifier - KDTree KNN classifier\n",
      "S2repOp - Sentinel-2 red-edge position index\n",
      "IEM-Hybrid-Inversion - Performs IEM inversion using Hybrid approach\n",
      "ToolAdapterOp - Tool Adapter Operator\n",
      "Remove-GRD-Border-Noise - Mask no-value pixels for GRD product\n",
      "Speckle-Filter - Speckle Reduction\n",
      "GenericRegionMergingOp - The 'Generic Region Merging' operator computes the distinct regions from a product\n",
      "CP-Simulation - Simulation of Compact Pol data from Quad Pol data\n",
      "MphChlBasis - Computes maximum peak height of chlorophyll. Basis class, contains sensor-independent parts.\n",
      "ReipOp - The red edge inflection point index\n",
      "ALOS-Deskewing - Deskewing ALOS product\n",
      "Cross-Correlation - Automatic Selection of Ground Control Points\n",
      "Cross-Channel-SNR-Correction - Compute general polarimetric parameters\n",
      "Biophysical10mOp - The 'Biophysical Processor' operator retrieves LAI from atmospherically corrected Sentinel-2 products\n",
      "Terrain-Correction - RD method for orthorectification\n",
      "Meris.Brr - Performs the Rayleigh correction on a MERIS L1b product.\n",
      "PpeFiltering - Performs Prompt Particle Event (PPE) filtering on OLCI L1B\n",
      "RemoteExecutionOp - The Remote Execution Processor executes on the remote machines a slave graph and then on the host machine it executes a master graph using the products created by the remote machines.\n",
      "Arc.SST - Computes sea surface temperature (SST) from (A)ATSR and SLSTR products.\n",
      "Meris.CombinedCloud - None\n",
      "GemiOp - This retrieves the Global Environmental Monitoring Index (GEMI).\n",
      "FillBand - None\n",
      "DviOp - Difference Vegetation Index retrieves the Isovegetation lines parallel to soil line\n",
      "Terrain-Mask - Terrain Mask Generation\n",
      "Unmix - Performs a linear spectral unmixing.\n",
      "McariOp - Modified Chlorophyll Absorption Ratio Index, developed to be responsive to chlorophyll variation\n",
      "AdaptiveThresholding - Detect ships using Constant False Alarm Rate detector.\n",
      "Subset - Create a spatial and/or spectral subset of a data product.\n",
      "Meris.SmileCorrection - None\n",
      "FUB.Water - FUB/WeW WATER Processor to retrieve case II water properties and atmospheric properties\n",
      "BandSelect - Creates a new product with only selected bands\n",
      "Stack-Averaging - Averaging multi-temporal images\n",
      "StoredGraph - Encapsulates an stored graph into an operator.\n",
      "Import-Vector - Imports a shape file into a product\n",
      "RRToFRS - None\n",
      "Multi-Temporal-Speckle-Filter - Speckle Reduction using Multitemporal Filtering\n",
      "NdwiOp - The Normalized Difference Water Index was developed for the extraction of water features\n",
      "MndwiOp - Modified Normalized Difference Water Index, allowing for the measurement of surface water extent\n",
      "Orientation-Angle-Correction - Perform polarization orientation angle correction for given coherency matrix\n",
      "Oil-Spill-Clustering - Remove small clusters from detected area.\n",
      "Forest-Area-Classification - Detect forest area\n",
      "SARSim-Terrain-Correction - Orthorectification with SAR simulation\n",
      "SmacOp - Applies the Simplified Method for Atmospheric Corrections of Envisat MERIS/(A)ATSR measurements.\n",
      "Offset-Tracking - Create velocity vectors from offset tracking\n",
      "GoldsteinPhaseFiltering - Phase Filtering\n",
      "Interferogram - Compute interferograms from stack of coregistered S-1 images\n",
      "SRGR - Converts Slant Range to Ground Range\n",
      "PassThrough - Sets target product to source product.\n",
      "Binning - Performs spatial and temporal aggregation of pixel values into cells ('bins') of a planetary grid\n",
      "Mosaic - Creates a mosaic out of a set of source products.\n",
      "Meris.RayleighCorrection - MERIS L2 rayleigh correction.\n",
      "Bi2Op - The Brightness index represents the average of the brightness of a satellite image.\n",
      "This index is sensitive to the brightness of soils which is highly correlated with the humidity and the presence of salts in surface\n",
      "AATSR.Ungrid - Ungrids (A)ATSR L1B products and extracts geolocation and pixel field of view data.\n",
      "ThermalNoiseRemoval - Removes thermal noise from products\n",
      "Generalized-Radar-Vegetation-Index - Generalized Radar Vegetation Indices generation\n",
      "RviOp - Ratio Vegetation Index retrieves the Isovegetation lines converge at origin\n",
      "Multi-size Mosaic - Creates a multi-size mosaic out of a set of source products.\n",
      "c2rcc.landsat7 - Performs atmospheric correction and IOP retrieval with uncertainties on Landsat-7 L1 data products.\n",
      "SliceAssembly - Merges Sentinel-1 slice products\n",
      "OlciO2aHarmonisation - Performs O2A band harmonisation on OLCI L1b product. Implements update v4 of R.Preusker, June 2020.\n",
      "AddLandCover - Creates a land cover band\n",
      "EMClusterAnalysis - Performs an expectation-maximization (EM) cluster analysis.\n",
      "Aatsr.SST - Computes sea surface temperature (SST) from (A)ATSR products.\n",
      "Rad2Refl - Provides conversion from radiances to reflectances or backwards.\n",
      "Meris.CloudShadow - None\n",
      "SnaphuExport - Export data and prepare conf file for SNAPHU processing\n",
      "Calibration - Calibration of products\n",
      "ForestCoverChangeOp - Creates forest change masks out of two source products\n",
      "GndviOp - Green Normalized Difference Vegetation Index\n",
      "Meris.AerosolMerger - None\n",
      "Read - Reads a data product from a given file location.\n",
      "Polarimetric-Parameters - Compute general polarimetric parameters\n",
      "GaseousAbsorption - Correct the influence of atmospheric gas absorption for those OLCI channels.\n",
      "PCA - Performs a Principal Component Analysis.\n",
      "MoreThenAnIntegerOp - just for testing\n",
      "Ndwi2Op - The Normalized Difference Water Index, allowing for the measurement of surface water extent\n",
      "Ndi45Op - Normalized Difference Index using bands 4 and 5\n",
      "SubGraph - Encapsulates a graph within a graph.\n",
      "Land-Sea-Mask - Creates a bitmask defining land vs ocean.\n",
      "LandWaterMask - Operator creating a target product with a single band containing a land/water-mask.\n",
      "Find-Image-Pair - DB query to find matching image pair\n",
      "L3ToL1 - None\n",
      "TOPSAR-Deburst - Debursts a Sentinel-1 TOPSAR product\n",
      "Radar-Vegetation-Index - Dual-pol Radar Vegetation Indices generation\n",
      "LinearToFromdB - Converts bands to/from dB\n",
      "GLCM - Extract Texture Features\n",
      "Flood-Detection - Detect flooded area.\n",
      "SnaphuImport - Ingest SNAPHU results into InSAR product.\n",
      "c2rcc.meris - Performs atmospheric correction and IOP retrieval with uncertainties on MERIS L1b data products.\n",
      "StatisticsOp - Computes statistics for an arbitrary number of source products.\n",
      "TestPattern - For testing only\n",
      "c2rcc - Performs atmospheric correction and IOP retrieval on OLCI, MSI, MERIS, MODIS or SeaWiFS L1 product.\n",
      "DecisionTree - Perform decision tree classification\n",
      "Double-Difference-Interferogram - Compute double difference interferogram\n",
      "Undersample - Undersample the datset\n",
      "PhaseToDisplacement - Phase To Displacement Conversion along LOS\n",
      "S2tbx-Reproject - Reprojection of a source product to a target Coordinate Reference System.\n",
      "Ellipsoid-Correction-GG - GG method for orthorectification\n",
      "CP-Stokes-Parameters - Generates compact polarimetric Stokes child parameters\n",
      "MphChlOlci - Computes maximum peak height of chlorophyll for OLCI. Implements OLCI-specific parts.\n",
      "Multitemporal-Compositing - Compute composite image from multi-temporal RTCs\n",
      "PhaseToHeight - Phase to Height conversion\n",
      "Object-Discrimination - Remove false alarms from the detected objects.\n",
      "FillAerosol - None\n",
      "BandMaths - Create a product with one or more bands using mathematical expressions.\n",
      "KMeansClusterAnalysis - Performs a K-Means cluster analysis.\n",
      "Stack-Split - Writes all bands to files.\n",
      "Image-Filter - Common Image Processing Filters\n",
      "PssraOp - Pigment Specific Simple Ratio, chlorophyll index\n",
      "SmileCorrection.Olci - Performs radiometric corrections on OLCI L1b data products.\n",
      "Compute-Slope-Aspect - Compute Slope and Aspect from DEM\n",
      "Merge - Allows merging of several source products by using specified 'master' as reference product.\n",
      "CreateStack - Collocates two or more products based on their geo-codings.\n",
      "Ellipsoid-Correction-RD - Ellipsoid correction with RD method and average scene height\n",
      "PyOp - Uses Python code to process data products\n",
      "BandMerge - Allows copying raster data from any number of source products to a specified 'master' product.\n",
      "Supervised-Wishart-Classification - Perform supervised Wishart classification\n",
      "Polarimetric-Speckle-Filter - Polarimetric Speckle Reduction\n",
      "Coherence - Estimate coherence from stack of coregistered images\n",
      "Land-Cover-Mask - Perform decision tree classification\n",
      "c2rcc.meris4 - Performs atmospheric correction and IOP retrieval with uncertainties on MERIS L1b data products from the 4th reprocessing.\n",
      "ProductSet-Reader - Adds a list of sources\n",
      "c2rcc.msi - Performs atmospheric correction and IOP retrieval with uncertainties on Sentinel-2 MSI L1C data products.\n",
      "MphChl - This operator computes maximum peak height of chlorophyll (MPH/CHL).\n",
      "RayleighCorrection - Performs radiometric corrections on OLCI, MERIS L1B and S2 MSI L1C data products.\n",
      "Update-Geo-Reference - Update Geo Reference\n",
      "Mci.s2 - Computes maximum chlorophyll index (MCI) for Sentinel-2 MSI.\n",
      "IEM-Multi-Angle-Inversion - Performs IEM inversion using Multi-angle approach\n",
      "NdviOp - The retrieves the Normalized Difference Vegetation Index (NDVI).\n",
      "StampsExport - Export data for StaMPS processing\n",
      "KNN-Classifier - K-Nearest Neighbour classifier\n",
      "Principle-Components - Principle Component Analysis\n",
      "Minimum-Distance-Classifier - Minimum Distance classifier\n",
      "Convert-Datatype - Convert product data type\n",
      "TileWriter - Writes a data product to a tiles.\n",
      "Meris.CloudProbability - None\n",
      "Polarimetric-Decomposition - Perform Polarimetric decomposition of a given product\n",
      "TopoPhaseRemoval - Compute and subtract TOPO phase\n",
      "IreciOp - Inverted red-edge chlorophyll index\n",
      "BiophysicalOp - The 'Biophysical Processor' operator retrieves LAI from atmospherically corrected Sentinel-2 products\n",
      "DeburstWSS - Debursts an ASAR WSS product\n",
      "TsaviOp - This retrieves the Transformed Soil Adjusted Vegetation Index (TSAVI).\n",
      "IEM-Multi-Pol-Inversion - Performs IEM inversion using Multi-polarization approach\n",
      "Faraday-Rotation-Correction - Perform Faraday-rotation correction for quad-pol product\n",
      "c2rcc.viirs - Performs atmospheric correction and IOP retrieval on Viirs L1C data products.\n",
      "CP-Decomposition - Perform Compact Polarimetric decomposition of a given product\n",
      "BandsExtractorOp - Creates a new product out of the source product containing only the indexes bands given\n",
      "SimulateAmplitude - Simulate amplitude based on DEM\n",
      "BiophysicalLandsat8Op - The 'Biophysical Processor' operator retrieves LAI from atmospherically corrected Landsat8 products\n",
      "Meris.Sdr - None\n",
      "c2rcc.landsat8 - Performs atmospheric correction and IOP retrieval with uncertainties on Landsat-8 L1 data products.\n",
      "Meris.GaseousCorrection - MERIS L2 gaseous absorbtion correction.\n",
      "SM-Dielectric-Modeling - Performs SM inversion using dielectric model\n",
      "Polarimetric-Classification - Perform Polarimetric classification of a given product\n",
      "Flip - flips a product horizontal/vertical\n",
      "Meris.CloudTopPressureOp - Computes cloud top pressure with FUB NN.\n",
      "PviOp - Perpendicular Vegetation Index retrieves the Isovegetation lines parallel to soil line. Soil line has an arbitrary slope and passes through origin\n",
      "Multilook - Averages the power across a number of lines in both the azimuth and range directions\n",
      "FuClassification - Colour classification based on the discrete Forel-Ule scale\n",
      "Oil-Spill-Detection - Detect oil spill.\n",
      "Terrain-Flattening - Terrain Flattening\n",
      "AzimuthFilter - Azimuth Filter\n",
      "ReplaceMetadata - Replace the metadata of the first product with that of the second\n",
      "ArviOp - Atmospherically Resistant Vegetation Index belongs to a family of indices with built-in atmospheric corrections.\n",
      "Meris.LandClassification - MERIS L2 land/water reclassification.\n",
      "c2rcc.modis - Performs atmospheric correction and IOP retrieval on MODIS L1C_LAC data products.\n",
      "Compactpol-Radar-Vegetation-Index - Compact-pol Radar Vegetation Indices generation\n",
      "Enhanced-Spectral-Diversity - Estimate constant range and azimuth offsets for a stack of images\n",
      "MtciOp - The Meris Terrestrial Chlorophyll Index,  aims at estimating the Red Edge Position (REP).\n",
      "This is the maximum slant point in the red and near-infrared region of the vegetal spectral reflectance.\n",
      "It is useful for observing the chlorophyll contents, vegetation senescence, and stress for water and nutritional deficiencies, but it is less suitable for land classification\n",
      "BandsDifferenceOp - None\n",
      "Meris.BlueBand - None\n",
      "WriteRGB - Creates an RGB image from three source bands.\n",
      "Msavi2Op - This retrieves the second Modified Soil Adjusted Vegetation Index (MSAVI2).\n",
      "Resample - Resampling of a multi-size source product to a single-size target product.\n",
      "MultiMasterStackGenerator - Generates a set of master-slave pairs from a coregistered stack for use in SBAS processing\n",
      "SAR-Mosaic - Mosaics two or more products based on their geo-codings.\n",
      "SetNoDataValue - Set NoDataValueUsed flag and NoDataValue for all bands\n",
      "DEM-Assisted-Coregistration - Orbit and DEM based co-registration\n",
      "c2rcc.olci - Performs atmospheric correction and IOP retrieval with uncertainties on SENTINEL-3 OLCI L1B data products.\n",
      "Data-Analysis - Computes statistics\n",
      "Speckle-Divergence - Detect urban area.\n",
      "Polarimetric-Matrices - Generates covariance or coherency matrix for given product\n",
      "Meris.GapLessSdr - None\n",
      "Write - Writes a data product to a file.\n",
      "TOPSAR-DerampDemod - Bursts co-registration using orbit and DEM\n",
      "WdviOp - Weighted Difference Vegetation Index retrieves the Isovegetation lines parallel to soil line. Soil line has an arbitrary slope and passes through origin\n",
      "CoregistrationOp - Coregisters two rasters, not considering their location\n",
      "IntegerInterferogram - Create integer interferogram\n",
      "S2Resampling - Specific S2 resample algorithm\n",
      "SAR-Simulation - Rigorous SAR Simulation\n",
      "Reproject - Reprojection of a source product to a target Coordinate Reference System.\n",
      "c2rcc.seawifs - Performs atmospheric correction and IOP retrieval on SeaWifs L1C data products.\n",
      "Back-Geocoding - Bursts co-registration using orbit and DEM\n",
      "Wind-Field-Estimation - Estimate wind speed and direction\n",
      "Fill-DEM-Hole - Fill holes in given DEM product file.\n",
      "PixEx - Extracts pixels from given locations and source products.\n",
      "Warp - Create Warp Function And Get Co-registrated Images\n",
      "ReflectanceToRadianceOp - The 'Reflectance To Radiance Processor' operator retrieves the radiance from reflectance using Sentinel-2 products\n",
      "Meris.Mod08Aerosol - None\n",
      "PduStitching - Stitches multiple SLSTR L1B product dissemination units (PDUs) of the same orbit to a single product.\n",
      "RiOp - The Redness Index was developed to identify soil colour variations.\n",
      "OWTClassification - Performs an optical water type classification based on atmospherically corrected reflectances.\n",
      "GaborFilter - Extract Texture Features\n",
      "Maximum-Likelihood-Classifier - Maximum Likelihood classifier\n",
      "Meris.CloudClassification - MERIS L2 cloud classification.\n",
      "Oversample - Oversample the datset\n",
      "Apply-Orbit-File - Apply orbit file\n",
      "FlhMci - Computes fluorescence line height (FLH) or maximum chlorophyll index (MCI).\n",
      "TemporalPercentile - Computes percentiles over a given time period.\n",
      "CrossResampling - Estimate Resampling Polynomial using SAR Image Geometry, and Resample Input Images\n",
      "Change-Detection - Change Detection.\n",
      "Meris.CorrectRadiometry - Performs radiometric corrections on MERIS L1b data products.\n",
      "SpectralAngleMapperOp - Classifies a product using the spectral angle mapper algorithm\n",
      "BiOp - The Brightness index represents the average of the brightness of a satellite image.\n",
      "Azimuth-Shift-Estimation-ESD - Estimate azimuth offset for the whole image\n",
      "NdpiOp - The normalized differential pond index, combines the short-wave infrared band-I and the green band\n",
      "MphChlMeris - Computes maximum peak height of chlorophyll for MERIS. Implements MERIS-specific parts.\n",
      "CiOp - Colour Index  was developed to differentiate soils in the field.\n",
      "In most cases the CI gives complementary information with the BI and the NDVI.\n",
      " Used for diachronic analyses, they help for a better understanding of the evolution of soil surfaces.\n",
      "Collocate - Collocates two products based on their geo-codings.\n",
      "TOPSAR-Split - Creates a new product with only the selected subswath\n",
      "TileCache - Experimental Operator which provides a dedicated cache for its source product.\n",
      "A guide on how this operator is used is provided at https://senbox.atlassian.net/wiki/x/VQCTLw.\n",
      "EAP-Phase-Correction - EAP Phase Correction\n",
      "TOPSAR-Merge - Merge subswaths of a Sentinel-1 TOPSAR product\n",
      "SaviOp - This retrieves the Soil-Adjusted Vegetation Index (SAVI).\n",
      "Remodulate - Remodulation and reramping of SLC data\n",
      "Three-passDInSAR - Differential Interferometry\n",
      "Random-Forest-Classifier - Random Forest based classifier\n",
      "MsaviOp - This retrieves the Modified Soil Adjusted Vegetation Index (MSAVI).\n",
      "IpviOp - Infrared Percentage Vegetation Index retrieves the Isovegetation lines converge at origin\n",
      "CloudProb - Applies a clear sky conservative cloud detection algorithm.\n",
      "Forest-Area-Detection - Detect forest area.\n",
      "NdtiOp - Normalized difference turbidity index, allowing for the measurement of water turbidity\n",
      "Meris.N1Patcher - Copies an existing N1 file and replaces the data for the radiance bands\n",
      "PhaseToElevation - DEM Generation\n",
      "Demodulate - Demodulation and deramping of SLC data\n",
      "RemoveAntennaPattern - Remove Antenna Pattern\n",
      "GRD-Post - Applies GRD post-processing\n",
      "AddElevation - Creates a DEM band\n"
     ]
    },
    {
     "data": {
      "text/plain": [
       "{'RangeFilter': 'Range Filter',\n",
       " 'TndviOp': 'Transformed Normalized Difference Vegetation Index retrieves the Isovegetation lines parallel to soil line',\n",
       " 'KDTree-KNN-Classifier': 'KDTree KNN classifier',\n",
       " 'S2repOp': 'Sentinel-2 red-edge position index',\n",
       " 'IEM-Hybrid-Inversion': 'Performs IEM inversion using Hybrid approach',\n",
       " 'ToolAdapterOp': 'Tool Adapter Operator',\n",
       " 'Remove-GRD-Border-Noise': 'Mask no-value pixels for GRD product',\n",
       " 'Speckle-Filter': 'Speckle Reduction',\n",
       " 'GenericRegionMergingOp': \"The 'Generic Region Merging' operator computes the distinct regions from a product\",\n",
       " 'CP-Simulation': 'Simulation of Compact Pol data from Quad Pol data',\n",
       " 'MphChlBasis': 'Computes maximum peak height of chlorophyll. Basis class, contains sensor-independent parts.',\n",
       " 'ReipOp': 'The red edge inflection point index',\n",
       " 'ALOS-Deskewing': 'Deskewing ALOS product',\n",
       " 'Cross-Correlation': 'Automatic Selection of Ground Control Points',\n",
       " 'Cross-Channel-SNR-Correction': 'Compute general polarimetric parameters',\n",
       " 'Biophysical10mOp': \"The 'Biophysical Processor' operator retrieves LAI from atmospherically corrected Sentinel-2 products\",\n",
       " 'Terrain-Correction': 'RD method for orthorectification',\n",
       " 'Meris.Brr': 'Performs the Rayleigh correction on a MERIS L1b product.',\n",
       " 'PpeFiltering': 'Performs Prompt Particle Event (PPE) filtering on OLCI L1B',\n",
       " 'RemoteExecutionOp': 'The Remote Execution Processor executes on the remote machines a slave graph and then on the host machine it executes a master graph using the products created by the remote machines.',\n",
       " 'Arc.SST': 'Computes sea surface temperature (SST) from (A)ATSR and SLSTR products.',\n",
       " 'Meris.CombinedCloud': None,\n",
       " 'GemiOp': 'This retrieves the Global Environmental Monitoring Index (GEMI).',\n",
       " 'FillBand': None,\n",
       " 'DviOp': 'Difference Vegetation Index retrieves the Isovegetation lines parallel to soil line',\n",
       " 'Terrain-Mask': 'Terrain Mask Generation',\n",
       " 'Unmix': 'Performs a linear spectral unmixing.',\n",
       " 'McariOp': 'Modified Chlorophyll Absorption Ratio Index, developed to be responsive to chlorophyll variation',\n",
       " 'AdaptiveThresholding': 'Detect ships using Constant False Alarm Rate detector.',\n",
       " 'Subset': 'Create a spatial and/or spectral subset of a data product.',\n",
       " 'Meris.SmileCorrection': None,\n",
       " 'FUB.Water': 'FUB/WeW WATER Processor to retrieve case II water properties and atmospheric properties',\n",
       " 'BandSelect': 'Creates a new product with only selected bands',\n",
       " 'Stack-Averaging': 'Averaging multi-temporal images',\n",
       " 'StoredGraph': 'Encapsulates an stored graph into an operator.',\n",
       " 'Import-Vector': 'Imports a shape file into a product',\n",
       " 'RRToFRS': None,\n",
       " 'Multi-Temporal-Speckle-Filter': 'Speckle Reduction using Multitemporal Filtering',\n",
       " 'NdwiOp': 'The Normalized Difference Water Index was developed for the extraction of water features',\n",
       " 'MndwiOp': 'Modified Normalized Difference Water Index, allowing for the measurement of surface water extent',\n",
       " 'Orientation-Angle-Correction': 'Perform polarization orientation angle correction for given coherency matrix',\n",
       " 'Oil-Spill-Clustering': 'Remove small clusters from detected area.',\n",
       " 'Forest-Area-Classification': 'Detect forest area',\n",
       " 'SARSim-Terrain-Correction': 'Orthorectification with SAR simulation',\n",
       " 'SmacOp': 'Applies the Simplified Method for Atmospheric Corrections of Envisat MERIS/(A)ATSR measurements.',\n",
       " 'Offset-Tracking': 'Create velocity vectors from offset tracking',\n",
       " 'GoldsteinPhaseFiltering': 'Phase Filtering',\n",
       " 'Interferogram': 'Compute interferograms from stack of coregistered S-1 images',\n",
       " 'SRGR': 'Converts Slant Range to Ground Range',\n",
       " 'PassThrough': 'Sets target product to source product.',\n",
       " 'Binning': \"Performs spatial and temporal aggregation of pixel values into cells ('bins') of a planetary grid\",\n",
       " 'Mosaic': 'Creates a mosaic out of a set of source products.',\n",
       " 'Meris.RayleighCorrection': 'MERIS L2 rayleigh correction.',\n",
       " 'Bi2Op': 'The Brightness index represents the average of the brightness of a satellite image.\\nThis index is sensitive to the brightness of soils which is highly correlated with the humidity and the presence of salts in surface',\n",
       " 'AATSR.Ungrid': 'Ungrids (A)ATSR L1B products and extracts geolocation and pixel field of view data.',\n",
       " 'ThermalNoiseRemoval': 'Removes thermal noise from products',\n",
       " 'Generalized-Radar-Vegetation-Index': 'Generalized Radar Vegetation Indices generation',\n",
       " 'RviOp': 'Ratio Vegetation Index retrieves the Isovegetation lines converge at origin',\n",
       " 'Multi-size Mosaic': 'Creates a multi-size mosaic out of a set of source products.',\n",
       " 'c2rcc.landsat7': 'Performs atmospheric correction and IOP retrieval with uncertainties on Landsat-7 L1 data products.',\n",
       " 'SliceAssembly': 'Merges Sentinel-1 slice products',\n",
       " 'OlciO2aHarmonisation': 'Performs O2A band harmonisation on OLCI L1b product. Implements update v4 of R.Preusker, June 2020.',\n",
       " 'AddLandCover': 'Creates a land cover band',\n",
       " 'EMClusterAnalysis': 'Performs an expectation-maximization (EM) cluster analysis.',\n",
       " 'Aatsr.SST': 'Computes sea surface temperature (SST) from (A)ATSR products.',\n",
       " 'Rad2Refl': 'Provides conversion from radiances to reflectances or backwards.',\n",
       " 'Meris.CloudShadow': None,\n",
       " 'SnaphuExport': 'Export data and prepare conf file for SNAPHU processing',\n",
       " 'Calibration': 'Calibration of products',\n",
       " 'ForestCoverChangeOp': 'Creates forest change masks out of two source products',\n",
       " 'GndviOp': 'Green Normalized Difference Vegetation Index',\n",
       " 'Meris.AerosolMerger': None,\n",
       " 'Read': 'Reads a data product from a given file location.',\n",
       " 'Polarimetric-Parameters': 'Compute general polarimetric parameters',\n",
       " 'GaseousAbsorption': 'Correct the influence of atmospheric gas absorption for those OLCI channels.',\n",
       " 'PCA': 'Performs a Principal Component Analysis.',\n",
       " 'MoreThenAnIntegerOp': 'just for testing',\n",
       " 'Ndwi2Op': 'The Normalized Difference Water Index, allowing for the measurement of surface water extent',\n",
       " 'Ndi45Op': 'Normalized Difference Index using bands 4 and 5',\n",
       " 'SubGraph': 'Encapsulates a graph within a graph.',\n",
       " 'Land-Sea-Mask': 'Creates a bitmask defining land vs ocean.',\n",
       " 'LandWaterMask': 'Operator creating a target product with a single band containing a land/water-mask.',\n",
       " 'Find-Image-Pair': 'DB query to find matching image pair',\n",
       " 'L3ToL1': None,\n",
       " 'TOPSAR-Deburst': 'Debursts a Sentinel-1 TOPSAR product',\n",
       " 'Radar-Vegetation-Index': 'Dual-pol Radar Vegetation Indices generation',\n",
       " 'LinearToFromdB': 'Converts bands to/from dB',\n",
       " 'GLCM': 'Extract Texture Features',\n",
       " 'Flood-Detection': 'Detect flooded area.',\n",
       " 'SnaphuImport': 'Ingest SNAPHU results into InSAR product.',\n",
       " 'c2rcc.meris': 'Performs atmospheric correction and IOP retrieval with uncertainties on MERIS L1b data products.',\n",
       " 'StatisticsOp': 'Computes statistics for an arbitrary number of source products.',\n",
       " 'TestPattern': 'For testing only',\n",
       " 'c2rcc': 'Performs atmospheric correction and IOP retrieval on OLCI, MSI, MERIS, MODIS or SeaWiFS L1 product.',\n",
       " 'DecisionTree': 'Perform decision tree classification',\n",
       " 'Double-Difference-Interferogram': 'Compute double difference interferogram',\n",
       " 'Undersample': 'Undersample the datset',\n",
       " 'PhaseToDisplacement': 'Phase To Displacement Conversion along LOS',\n",
       " 'S2tbx-Reproject': 'Reprojection of a source product to a target Coordinate Reference System.',\n",
       " 'Ellipsoid-Correction-GG': 'GG method for orthorectification',\n",
       " 'CP-Stokes-Parameters': 'Generates compact polarimetric Stokes child parameters',\n",
       " 'MphChlOlci': 'Computes maximum peak height of chlorophyll for OLCI. Implements OLCI-specific parts.',\n",
       " 'Multitemporal-Compositing': 'Compute composite image from multi-temporal RTCs',\n",
       " 'PhaseToHeight': 'Phase to Height conversion',\n",
       " 'Object-Discrimination': 'Remove false alarms from the detected objects.',\n",
       " 'FillAerosol': None,\n",
       " 'BandMaths': 'Create a product with one or more bands using mathematical expressions.',\n",
       " 'KMeansClusterAnalysis': 'Performs a K-Means cluster analysis.',\n",
       " 'Stack-Split': 'Writes all bands to files.',\n",
       " 'Image-Filter': 'Common Image Processing Filters',\n",
       " 'PssraOp': 'Pigment Specific Simple Ratio, chlorophyll index',\n",
       " 'SmileCorrection.Olci': 'Performs radiometric corrections on OLCI L1b data products.',\n",
       " 'Compute-Slope-Aspect': 'Compute Slope and Aspect from DEM',\n",
       " 'Merge': \"Allows merging of several source products by using specified 'master' as reference product.\",\n",
       " 'CreateStack': 'Collocates two or more products based on their geo-codings.',\n",
       " 'Ellipsoid-Correction-RD': 'Ellipsoid correction with RD method and average scene height',\n",
       " 'PyOp': 'Uses Python code to process data products',\n",
       " 'BandMerge': \"Allows copying raster data from any number of source products to a specified 'master' product.\",\n",
       " 'Supervised-Wishart-Classification': 'Perform supervised Wishart classification',\n",
       " 'Polarimetric-Speckle-Filter': 'Polarimetric Speckle Reduction',\n",
       " 'Coherence': 'Estimate coherence from stack of coregistered images',\n",
       " 'Land-Cover-Mask': 'Perform decision tree classification',\n",
       " 'c2rcc.meris4': 'Performs atmospheric correction and IOP retrieval with uncertainties on MERIS L1b data products from the 4th reprocessing.',\n",
       " 'ProductSet-Reader': 'Adds a list of sources',\n",
       " 'c2rcc.msi': 'Performs atmospheric correction and IOP retrieval with uncertainties on Sentinel-2 MSI L1C data products.',\n",
       " 'MphChl': 'This operator computes maximum peak height of chlorophyll (MPH/CHL).',\n",
       " 'RayleighCorrection': 'Performs radiometric corrections on OLCI, MERIS L1B and S2 MSI L1C data products.',\n",
       " 'Update-Geo-Reference': 'Update Geo Reference',\n",
       " 'Mci.s2': 'Computes maximum chlorophyll index (MCI) for Sentinel-2 MSI.',\n",
       " 'IEM-Multi-Angle-Inversion': 'Performs IEM inversion using Multi-angle approach',\n",
       " 'NdviOp': 'The retrieves the Normalized Difference Vegetation Index (NDVI).',\n",
       " 'StampsExport': 'Export data for StaMPS processing',\n",
       " 'KNN-Classifier': 'K-Nearest Neighbour classifier',\n",
       " 'Principle-Components': 'Principle Component Analysis',\n",
       " 'Minimum-Distance-Classifier': 'Minimum Distance classifier',\n",
       " 'Convert-Datatype': 'Convert product data type',\n",
       " 'TileWriter': 'Writes a data product to a tiles.',\n",
       " 'Meris.CloudProbability': None,\n",
       " 'Polarimetric-Decomposition': 'Perform Polarimetric decomposition of a given product',\n",
       " 'TopoPhaseRemoval': 'Compute and subtract TOPO phase',\n",
       " 'IreciOp': 'Inverted red-edge chlorophyll index',\n",
       " 'BiophysicalOp': \"The 'Biophysical Processor' operator retrieves LAI from atmospherically corrected Sentinel-2 products\",\n",
       " 'DeburstWSS': 'Debursts an ASAR WSS product',\n",
       " 'TsaviOp': 'This retrieves the Transformed Soil Adjusted Vegetation Index (TSAVI).',\n",
       " 'IEM-Multi-Pol-Inversion': 'Performs IEM inversion using Multi-polarization approach',\n",
       " 'Faraday-Rotation-Correction': 'Perform Faraday-rotation correction for quad-pol product',\n",
       " 'c2rcc.viirs': 'Performs atmospheric correction and IOP retrieval on Viirs L1C data products.',\n",
       " 'CP-Decomposition': 'Perform Compact Polarimetric decomposition of a given product',\n",
       " 'BandsExtractorOp': 'Creates a new product out of the source product containing only the indexes bands given',\n",
       " 'SimulateAmplitude': 'Simulate amplitude based on DEM',\n",
       " 'BiophysicalLandsat8Op': \"The 'Biophysical Processor' operator retrieves LAI from atmospherically corrected Landsat8 products\",\n",
       " 'Meris.Sdr': None,\n",
       " 'c2rcc.landsat8': 'Performs atmospheric correction and IOP retrieval with uncertainties on Landsat-8 L1 data products.',\n",
       " 'Meris.GaseousCorrection': 'MERIS L2 gaseous absorbtion correction.',\n",
       " 'SM-Dielectric-Modeling': 'Performs SM inversion using dielectric model',\n",
       " 'Polarimetric-Classification': 'Perform Polarimetric classification of a given product',\n",
       " 'Flip': 'flips a product horizontal/vertical',\n",
       " 'Meris.CloudTopPressureOp': 'Computes cloud top pressure with FUB NN.',\n",
       " 'PviOp': 'Perpendicular Vegetation Index retrieves the Isovegetation lines parallel to soil line. Soil line has an arbitrary slope and passes through origin',\n",
       " 'Multilook': 'Averages the power across a number of lines in both the azimuth and range directions',\n",
       " 'FuClassification': 'Colour classification based on the discrete Forel-Ule scale',\n",
       " 'Oil-Spill-Detection': 'Detect oil spill.',\n",
       " 'Terrain-Flattening': 'Terrain Flattening',\n",
       " 'AzimuthFilter': 'Azimuth Filter',\n",
       " 'ReplaceMetadata': 'Replace the metadata of the first product with that of the second',\n",
       " 'ArviOp': 'Atmospherically Resistant Vegetation Index belongs to a family of indices with built-in atmospheric corrections.',\n",
       " 'Meris.LandClassification': 'MERIS L2 land/water reclassification.',\n",
       " 'c2rcc.modis': 'Performs atmospheric correction and IOP retrieval on MODIS L1C_LAC data products.',\n",
       " 'Compactpol-Radar-Vegetation-Index': 'Compact-pol Radar Vegetation Indices generation',\n",
       " 'Enhanced-Spectral-Diversity': 'Estimate constant range and azimuth offsets for a stack of images',\n",
       " 'MtciOp': 'The Meris Terrestrial Chlorophyll Index,  aims at estimating the Red Edge Position (REP).\\nThis is the maximum slant point in the red and near-infrared region of the vegetal spectral reflectance.\\nIt is useful for observing the chlorophyll contents, vegetation senescence, and stress for water and nutritional deficiencies, but it is less suitable for land classification',\n",
       " 'BandsDifferenceOp': None,\n",
       " 'Meris.BlueBand': None,\n",
       " 'WriteRGB': 'Creates an RGB image from three source bands.',\n",
       " 'Msavi2Op': 'This retrieves the second Modified Soil Adjusted Vegetation Index (MSAVI2).',\n",
       " 'Resample': 'Resampling of a multi-size source product to a single-size target product.',\n",
       " 'MultiMasterStackGenerator': 'Generates a set of master-slave pairs from a coregistered stack for use in SBAS processing',\n",
       " 'SAR-Mosaic': 'Mosaics two or more products based on their geo-codings.',\n",
       " 'SetNoDataValue': 'Set NoDataValueUsed flag and NoDataValue for all bands',\n",
       " 'DEM-Assisted-Coregistration': 'Orbit and DEM based co-registration',\n",
       " 'c2rcc.olci': 'Performs atmospheric correction and IOP retrieval with uncertainties on SENTINEL-3 OLCI L1B data products.',\n",
       " 'Data-Analysis': 'Computes statistics',\n",
       " 'Speckle-Divergence': 'Detect urban area.',\n",
       " 'Polarimetric-Matrices': 'Generates covariance or coherency matrix for given product',\n",
       " 'Meris.GapLessSdr': None,\n",
       " 'Write': 'Writes a data product to a file.',\n",
       " 'TOPSAR-DerampDemod': 'Bursts co-registration using orbit and DEM',\n",
       " 'WdviOp': 'Weighted Difference Vegetation Index retrieves the Isovegetation lines parallel to soil line. Soil line has an arbitrary slope and passes through origin',\n",
       " 'CoregistrationOp': 'Coregisters two rasters, not considering their location',\n",
       " 'IntegerInterferogram': 'Create integer interferogram',\n",
       " 'S2Resampling': 'Specific S2 resample algorithm',\n",
       " 'SAR-Simulation': 'Rigorous SAR Simulation',\n",
       " 'Reproject': 'Reprojection of a source product to a target Coordinate Reference System.',\n",
       " 'c2rcc.seawifs': 'Performs atmospheric correction and IOP retrieval on SeaWifs L1C data products.',\n",
       " 'Back-Geocoding': 'Bursts co-registration using orbit and DEM',\n",
       " 'Wind-Field-Estimation': 'Estimate wind speed and direction',\n",
       " 'Fill-DEM-Hole': 'Fill holes in given DEM product file.',\n",
       " 'PixEx': 'Extracts pixels from given locations and source products.',\n",
       " 'Warp': 'Create Warp Function And Get Co-registrated Images',\n",
       " 'ReflectanceToRadianceOp': \"The 'Reflectance To Radiance Processor' operator retrieves the radiance from reflectance using Sentinel-2 products\",\n",
       " 'Meris.Mod08Aerosol': None,\n",
       " 'PduStitching': 'Stitches multiple SLSTR L1B product dissemination units (PDUs) of the same orbit to a single product.',\n",
       " 'RiOp': 'The Redness Index was developed to identify soil colour variations.',\n",
       " 'OWTClassification': 'Performs an optical water type classification based on atmospherically corrected reflectances.',\n",
       " 'GaborFilter': 'Extract Texture Features',\n",
       " 'Maximum-Likelihood-Classifier': 'Maximum Likelihood classifier',\n",
       " 'Meris.CloudClassification': 'MERIS L2 cloud classification.',\n",
       " 'Oversample': 'Oversample the datset',\n",
       " 'Apply-Orbit-File': 'Apply orbit file',\n",
       " 'FlhMci': 'Computes fluorescence line height (FLH) or maximum chlorophyll index (MCI).',\n",
       " 'TemporalPercentile': 'Computes percentiles over a given time period.',\n",
       " 'CrossResampling': 'Estimate Resampling Polynomial using SAR Image Geometry, and Resample Input Images',\n",
       " 'Change-Detection': 'Change Detection.',\n",
       " 'Meris.CorrectRadiometry': 'Performs radiometric corrections on MERIS L1b data products.',\n",
       " 'SpectralAngleMapperOp': 'Classifies a product using the spectral angle mapper algorithm',\n",
       " 'BiOp': 'The Brightness index represents the average of the brightness of a satellite image.',\n",
       " 'Azimuth-Shift-Estimation-ESD': 'Estimate azimuth offset for the whole image',\n",
       " 'NdpiOp': 'The normalized differential pond index, combines the short-wave infrared band-I and the green band',\n",
       " 'MphChlMeris': 'Computes maximum peak height of chlorophyll for MERIS. Implements MERIS-specific parts.',\n",
       " 'CiOp': 'Colour Index  was developed to differentiate soils in the field.\\nIn most cases the CI gives complementary information with the BI and the NDVI.\\n Used for diachronic analyses, they help for a better understanding of the evolution of soil surfaces.',\n",
       " 'Collocate': 'Collocates two products based on their geo-codings.',\n",
       " 'TOPSAR-Split': 'Creates a new product with only the selected subswath',\n",
       " 'TileCache': 'Experimental Operator which provides a dedicated cache for its source product.\\nA guide on how this operator is used is provided at https://senbox.atlassian.net/wiki/x/VQCTLw.',\n",
       " 'EAP-Phase-Correction': 'EAP Phase Correction',\n",
       " 'TOPSAR-Merge': 'Merge subswaths of a Sentinel-1 TOPSAR product',\n",
       " 'SaviOp': 'This retrieves the Soil-Adjusted Vegetation Index (SAVI).',\n",
       " 'Remodulate': 'Remodulation and reramping of SLC data',\n",
       " 'Three-passDInSAR': 'Differential Interferometry',\n",
       " 'Random-Forest-Classifier': 'Random Forest based classifier',\n",
       " 'MsaviOp': 'This retrieves the Modified Soil Adjusted Vegetation Index (MSAVI).',\n",
       " 'IpviOp': 'Infrared Percentage Vegetation Index retrieves the Isovegetation lines converge at origin',\n",
       " 'CloudProb': 'Applies a clear sky conservative cloud detection algorithm.',\n",
       " 'Forest-Area-Detection': 'Detect forest area.',\n",
       " 'NdtiOp': 'Normalized difference turbidity index, allowing for the measurement of water turbidity',\n",
       " 'Meris.N1Patcher': 'Copies an existing N1 file and replaces the data for the radiance bands',\n",
       " 'PhaseToElevation': 'DEM Generation',\n",
       " 'Demodulate': 'Demodulation and deramping of SLC data',\n",
       " 'RemoveAntennaPattern': 'Remove Antenna Pattern',\n",
       " 'GRD-Post': 'Applies GRD post-processing',\n",
       " 'AddElevation': 'Creates a DEM band'}"
      ]
     },
     "execution_count": 13,
     "metadata": {},
     "output_type": "execute_result"
    }
   ],
   "source": [
    "g.describe_operators()"
   ]
  },
  {
   "cell_type": "markdown",
   "metadata": {},
   "source": [
    "Create a linear graph"
   ]
  },
  {
   "cell_type": "code",
   "execution_count": 14,
   "metadata": {},
   "outputs": [
    {
     "name": "stdout",
     "output_type": "stream",
     "text": [
      "Adding Operator Read to graph\n",
      "Adding Operator Resample to graph\n",
      "Adding Operator Reproject to graph\n",
      "Adding Operator Subset to graph\n",
      "Adding Operator AddLandCover to graph\n",
      "Adding Operator Write to graph\n"
     ]
    }
   ],
   "source": [
    "g = Graph() \n",
    "\n",
    "read = Operator('Read')\n",
    "\n",
    "read.formatName = 'SENTINEL-1'\n",
    "read.file = 'some1'\n",
    "\n",
    "\n",
    "operators = [read,\n",
    "             'Resample',\n",
    "             'Reproject',\n",
    "             'Subset',\n",
    "             'AddLandCover',\n",
    "             'Write']\n",
    "\n",
    "for index, operator in enumerate(operators):\n",
    "\n",
    "    print('Adding Operator {} to graph'.format(operator.operator if isinstance(operator, Operator) else operator))\n",
    "    if index == 0:\n",
    "        source_node_id = None\n",
    "\n",
    "    else:\n",
    "        source_node_id = operators[index - 1].operator if isinstance(operators[index - 1], Operator) else operators[index - 1]\n",
    "\n",
    "    g.add_node(operator if isinstance(operator, Operator) else Operator(operator),\n",
    "               operator.operator if isinstance(operator, Operator) else operator,\n",
    "               source_node_id)"
   ]
  },
  {
   "cell_type": "code",
   "execution_count": 15,
   "metadata": {},
   "outputs": [
    {
     "name": "stdout",
     "output_type": "stream",
     "text": [
      "<graph>\n",
      "  <version>1.0</version>\n",
      "  <node id=\"Read\">\n",
      "    <operator>Read</operator>\n",
      "    <sources/>\n",
      "    <parameters class=\"com.bc.ceres.binding.dom.XppDomElement\">\n",
      "      <bandNames/>\n",
      "      <copyMetadata>true</copyMetadata>\n",
      "      <file>some1</file>\n",
      "      <formatName>SENTINEL-1</formatName>\n",
      "      <geometryRegion/>\n",
      "      <maskNames/>\n",
      "      <pixelRegion/>\n",
      "    </parameters>\n",
      "  </node>\n",
      "  <node id=\"Resample\">\n",
      "    <operator>Resample</operator>\n",
      "    <sources>\n",
      "      <sourceProduct refid=\"Read\"/>\n",
      "    </sources>\n",
      "    <parameters class=\"com.bc.ceres.binding.dom.XppDomElement\">\n",
      "      <bandResamplings/>\n",
      "      <downsamplingMethod>First</downsamplingMethod>\n",
      "      <flagDownsamplingMethod>First</flagDownsamplingMethod>\n",
      "      <referenceBandName/>\n",
      "      <resampleOnPyramidLevels>true</resampleOnPyramidLevels>\n",
      "      <resamplingPreset/>\n",
      "      <targetHeight/>\n",
      "      <targetResolution/>\n",
      "      <targetWidth/>\n",
      "      <upsamplingMethod>Nearest</upsamplingMethod>\n",
      "    </parameters>\n",
      "  </node>\n",
      "  <node id=\"Reproject\">\n",
      "    <operator>Reproject</operator>\n",
      "    <sources>\n",
      "      <sourceProduct refid=\"Resample\"/>\n",
      "    </sources>\n",
      "    <parameters class=\"com.bc.ceres.binding.dom.XppDomElement\">\n",
      "      <addDeltaBands>false</addDeltaBands>\n",
      "      <crs/>\n",
      "      <easting/>\n",
      "      <elevationModelName/>\n",
      "      <height/>\n",
      "      <includeTiePointGrids>true</includeTiePointGrids>\n",
      "      <noDataValue/>\n",
      "      <northing/>\n",
      "      <orientation>0</orientation>\n",
      "      <orthorectify>false</orthorectify>\n",
      "      <pixelSizeX/>\n",
      "      <pixelSizeY/>\n",
      "      <referencePixelX/>\n",
      "      <referencePixelY/>\n",
      "      <resamplingName>Nearest</resamplingName>\n",
      "      <tileSizeX/>\n",
      "      <tileSizeY/>\n",
      "      <width/>\n",
      "      <wktFile/>\n",
      "    </parameters>\n",
      "  </node>\n",
      "  <node id=\"Subset\">\n",
      "    <operator>Subset</operator>\n",
      "    <sources>\n",
      "      <sourceProduct refid=\"Reproject\"/>\n",
      "    </sources>\n",
      "    <parameters class=\"com.bc.ceres.binding.dom.XppDomElement\">\n",
      "      <bandNames/>\n",
      "      <copyMetadata>false</copyMetadata>\n",
      "      <fullSwath>false</fullSwath>\n",
      "      <geoRegion/>\n",
      "      <referenceBand/>\n",
      "      <region/>\n",
      "      <subSamplingX>1</subSamplingX>\n",
      "      <subSamplingY>1</subSamplingY>\n",
      "      <tiePointGridNames/>\n",
      "    </parameters>\n",
      "  </node>\n",
      "  <node id=\"AddLandCover\">\n",
      "    <operator>AddLandCover</operator>\n",
      "    <sources>\n",
      "      <sourceProduct refid=\"Subset\"/>\n",
      "    </sources>\n",
      "    <parameters class=\"com.bc.ceres.binding.dom.XppDomElement\">\n",
      "      <externalFiles/>\n",
      "      <landCoverNames>AAFC Canada Sand Pct</landCoverNames>\n",
      "      <resamplingMethod>NEAREST_NEIGHBOUR</resamplingMethod>\n",
      "    </parameters>\n",
      "  </node>\n",
      "  <node id=\"Write\">\n",
      "    <operator>Write</operator>\n",
      "    <sources>\n",
      "      <sourceProduct refid=\"AddLandCover\"/>\n",
      "    </sources>\n",
      "    <parameters class=\"com.bc.ceres.binding.dom.XppDomElement\">\n",
      "      <clearCacheAfterRowWrite>false</clearCacheAfterRowWrite>\n",
      "      <deleteOutputOnFailure>true</deleteOutputOnFailure>\n",
      "      <file/>\n",
      "      <formatName>BEAM-DIMAP</formatName>\n",
      "      <writeEntireTileRows>false</writeEntireTileRows>\n",
      "    </parameters>\n",
      "  </node>\n",
      "</graph>\n",
      "\n"
     ]
    }
   ],
   "source": [
    "g.view()"
   ]
  },
  {
   "cell_type": "code",
   "execution_count": 16,
   "metadata": {},
   "outputs": [],
   "source": [
    "#g.run()"
   ]
  },
  {
   "cell_type": "markdown",
   "metadata": {},
   "source": [
    "## BandMaths"
   ]
  },
  {
   "cell_type": "code",
   "execution_count": 17,
   "metadata": {},
   "outputs": [],
   "source": [
    "band_maths = Operator('BandMaths')"
   ]
  },
  {
   "cell_type": "code",
   "execution_count": 18,
   "metadata": {},
   "outputs": [
    {
     "name": "stdout",
     "output_type": "stream",
     "text": [
      "Operator name: BandMaths\n",
      "\n",
      "Description: Create a product with one or more bands using mathematical expressions.\n",
      "Authors: Marco Zuehlke, Norman Fomferra, Marco Peters\n",
      "\n",
      "org.esa.snap.core.gpf.common.BandMathsOp\n",
      "Version: 1.1\n",
      "\n",
      "Parameters:\n",
      "\n",
      "\ttargetBandDescriptors: List of descriptors defining the target bands.\n",
      "\t\tDefault Value: None\n",
      "\n",
      "\t\tPossible values: []\n",
      "\n",
      "\tvariables: List of variables which can be used within the expressions.\n",
      "\t\tDefault Value: None\n",
      "\n",
      "\t\tPossible values: []\n",
      "\n"
     ]
    }
   ],
   "source": [
    "band_maths.describe()"
   ]
  },
  {
   "cell_type": "markdown",
   "metadata": {},
   "source": [
    "<targetBand>\n",
    "          <name>active_fire_detected</name>\n",
    "          <type>float32</type>\n",
    "          <expression>S9_BT_in &lt; 265 ? 0 : F1_BT_in &gt; 315 and (F1_BT_in - F2_BT_in) &gt; 15 ? 1 : 0</expression>\n",
    "          <description/>\n",
    "          <unit/>\n",
    "          <noDataValue>NaN</noDataValue>\n",
    "        </targetBand>"
   ]
  },
  {
   "cell_type": "code",
   "execution_count": 19,
   "metadata": {},
   "outputs": [],
   "source": [
    "active_fire_band = TargetBand(name='active_fire_detected',\n",
    "                              expression='S9_BT_in &lt; 265 ? 0 : F1_BT_in &gt; 315 and (F1_BT_in - F2_BT_in) &gt; 15 ? 1 : 0')"
   ]
  },
  {
   "cell_type": "code",
   "execution_count": 20,
   "metadata": {},
   "outputs": [
    {
     "data": {
      "text/plain": [
       "TargetBand(name='active_fire_detected', expression='S9_BT_in &lt; 265 ? 0 : F1_BT_in &gt; 315 and (F1_BT_in - F2_BT_in) &gt; 15 ? 1 : 0', type='float32', description=None, unit=None, no_data_value='NaN')"
      ]
     },
     "execution_count": 20,
     "metadata": {},
     "output_type": "execute_result"
    }
   ],
   "source": [
    "active_fire_band"
   ]
  },
  {
   "cell_type": "code",
   "execution_count": 21,
   "metadata": {},
   "outputs": [],
   "source": [
    "band_maths.targetBandDescriptors = TargetBandDescriptors([active_fire_band])"
   ]
  },
  {
   "cell_type": "code",
   "execution_count": 22,
   "metadata": {},
   "outputs": [],
   "source": [
    "g = Graph()\n",
    "\n",
    "g.add_node(operator=Operator('Read'), \n",
    "           node_id='read_1')"
   ]
  },
  {
   "cell_type": "code",
   "execution_count": 23,
   "metadata": {},
   "outputs": [
    {
     "name": "stdout",
     "output_type": "stream",
     "text": [
      "targetBandDescriptors <snapista.target_band_descriptors.TargetBandDescriptors object at 0x7fa0c41e8400>\n"
     ]
    }
   ],
   "source": [
    "g.add_node(operator=band_maths, \n",
    "           node_id='band_maths', \n",
    "           source='read_1')"
   ]
  },
  {
   "cell_type": "code",
   "execution_count": 24,
   "metadata": {},
   "outputs": [
    {
     "name": "stdout",
     "output_type": "stream",
     "text": [
      "<graph>\n",
      "  <version>1.0</version>\n",
      "  <node id=\"read_1\">\n",
      "    <operator>Read</operator>\n",
      "    <sources/>\n",
      "    <parameters class=\"com.bc.ceres.binding.dom.XppDomElement\">\n",
      "      <bandNames/>\n",
      "      <copyMetadata>true</copyMetadata>\n",
      "      <file/>\n",
      "      <formatName/>\n",
      "      <geometryRegion/>\n",
      "      <maskNames/>\n",
      "      <pixelRegion/>\n",
      "    </parameters>\n",
      "  </node>\n",
      "  <node id=\"band_maths\">\n",
      "    <operator>BandMaths</operator>\n",
      "    <sources>\n",
      "      <sourceProduct refid=\"read_1\"/>\n",
      "    </sources>\n",
      "    <parameters class=\"com.bc.ceres.binding.dom.XppDomElement\">\n",
      "      <targetBands>\n",
      "        <targetBand>\n",
      "          <name>active_fire_detected</name>\n",
      "          <expression>S9_BT_in &amp;lt; 265 ? 0 : F1_BT_in &amp;gt; 315 and (F1_BT_in - F2_BT_in) &amp;gt; 15 ? 1 : 0</expression>\n",
      "          <type>float32</type>\n",
      "          <description/>\n",
      "          <unit/>\n",
      "          <no_data_value>NaN</no_data_value>\n",
      "        </targetBand>\n",
      "      </targetBands>\n",
      "      <variables/>\n",
      "    </parameters>\n",
      "  </node>\n",
      "</graph>\n",
      "\n"
     ]
    }
   ],
   "source": [
    "g.view()"
   ]
  },
  {
   "cell_type": "markdown",
   "metadata": {},
   "source": [
    "## Binning"
   ]
  },
  {
   "cell_type": "code",
   "execution_count": 25,
   "metadata": {},
   "outputs": [],
   "source": [
    "%load_ext autoreload\n",
    "%autoreload 2\n",
    "\n",
    "from snapista.binning import aggregators\n",
    "from snapista.binning import BinningVariable, BinningOutputBands, BinningBand, Aggregators\n",
    "from snapista import Graph\n",
    "from snapista import Operator\n",
    "import lxml.etree as etree\n"
   ]
  },
  {
   "cell_type": "code",
   "execution_count": 26,
   "metadata": {},
   "outputs": [],
   "source": [
    "ag = aggregators.AggregatorAvg(varName='pippo', targetName=\"target_name\", outputCounts='true')"
   ]
  },
  {
   "cell_type": "code",
   "execution_count": 27,
   "metadata": {},
   "outputs": [
    {
     "data": {
      "text/plain": [
       "{'type': 'AVG',\n",
       " 'varName': 'pippo',\n",
       " 'targetName': 'target_name',\n",
       " 'weightCoeff': 0.0,\n",
       " 'outputCounts': 'true',\n",
       " 'outputSums': 'true'}"
      ]
     },
     "execution_count": 27,
     "metadata": {},
     "output_type": "execute_result"
    }
   ],
   "source": [
    "ag.to_dict()"
   ]
  },
  {
   "cell_type": "code",
   "execution_count": 28,
   "metadata": {},
   "outputs": [
    {
     "data": {
      "text/plain": [
       "BinningVariable(name='pippo', expression='aa', valid_expression='aa')"
      ]
     },
     "execution_count": 28,
     "metadata": {},
     "output_type": "execute_result"
    }
   ],
   "source": [
    "bv = BinningVariable(name='pippo', expression='aa', valid_expression='aa')\n",
    "bv"
   ]
  },
  {
   "cell_type": "code",
   "execution_count": 29,
   "metadata": {},
   "outputs": [
    {
     "data": {
      "text/plain": [
       "<Element variable at 0x7fa0c41826c0>"
      ]
     },
     "execution_count": 29,
     "metadata": {},
     "output_type": "execute_result"
    }
   ],
   "source": [
    "bv.to_xml()"
   ]
  },
  {
   "cell_type": "code",
   "execution_count": 30,
   "metadata": {},
   "outputs": [
    {
     "data": {
      "text/plain": [
       "b'<variable><name>pippo</name><expr>aa</expr><validExpr>aa</validExpr></variable>'"
      ]
     },
     "execution_count": 30,
     "metadata": {},
     "output_type": "execute_result"
    }
   ],
   "source": [
    "etree.tostring(bv.to_xml())"
   ]
  },
  {
   "cell_type": "code",
   "execution_count": 31,
   "metadata": {},
   "outputs": [],
   "source": [
    "bb = BinningBand(index=\"0\", name='aa', minValue=0, maxValue=100)"
   ]
  },
  {
   "cell_type": "code",
   "execution_count": 32,
   "metadata": {},
   "outputs": [],
   "source": [
    "ob = BinningOutputBands([bb])"
   ]
  },
  {
   "cell_type": "code",
   "execution_count": 33,
   "metadata": {},
   "outputs": [
    {
     "data": {
      "text/plain": [
       "b'<outputBands><band><index>0</index><name>aa</name><minValue>0</minValue><maxValue>100</maxValue></band></outputBands>'"
      ]
     },
     "execution_count": 33,
     "metadata": {},
     "output_type": "execute_result"
    }
   ],
   "source": [
    "etree.tostring(ob.to_xml())"
   ]
  },
  {
   "cell_type": "code",
   "execution_count": 34,
   "metadata": {},
   "outputs": [
    {
     "data": {
      "text/plain": [
       "[BinningVariable(name='pippo', expression='aa', valid_expression='aa')]"
      ]
     },
     "execution_count": 34,
     "metadata": {},
     "output_type": "execute_result"
    }
   ],
   "source": [
    "[bv]"
   ]
  },
  {
   "cell_type": "code",
   "execution_count": 35,
   "metadata": {},
   "outputs": [
    {
     "data": {
      "text/plain": [
       "Operator('Binning', sourceProductPaths='None', sourceProductFormat='None', sourceGraphPaths='None', region='None', startDateTime='None', periodDuration='None', timeFilterMethod='NONE', minDataHour='None', numRows='2160', superSampling='1', maxDistanceOnEarth='-1', maskExpr='None', variableConfigs='None', aggregatorConfigs='None', postProcessorConfig='None', outputType='Product', outputFile='None', outputFormat='BEAM-DIMAP', bandConfigurations='None', productCustomizerConfig='None', outputBinnedData='false', outputTargetProduct='true', metadataPropertiesFile='./metadata.properties', metadataTemplateDir='.', metadataAggregatorName='NAME', planetaryGridClass='org.esa.snap.binning.support.SEAGrid')"
      ]
     },
     "execution_count": 35,
     "metadata": {},
     "output_type": "execute_result"
    }
   ],
   "source": [
    "binning = Operator('Binning')\n",
    "binning"
   ]
  },
  {
   "cell_type": "code",
   "execution_count": 36,
   "metadata": {},
   "outputs": [
    {
     "data": {
      "text/plain": [
       "Operator('Binning', sourceProductPaths='None', sourceProductFormat='None', sourceGraphPaths='None', region='None', startDateTime='None', periodDuration='None', timeFilterMethod='NONE', minDataHour='None', numRows='2160', superSampling='1', maxDistanceOnEarth='-1', maskExpr='None', variableConfigs='None', aggregatorConfigs='<snapista.binning.aggregators.Aggregators object at 0x7fa0c41e8e20>', postProcessorConfig='None', outputType='Product', outputFile='None', outputFormat='BEAM-DIMAP', bandConfigurations='<snapista.binning.output_bands.BinningOutputBands object at 0x7fa0c41e8e50>', productCustomizerConfig='None', outputBinnedData='false', outputTargetProduct='true', metadataPropertiesFile='./metadata.properties', metadataTemplateDir='.', metadataAggregatorName='NAME', planetaryGridClass='org.esa.snap.binning.support.SEAGrid')"
      ]
     },
     "execution_count": 36,
     "metadata": {},
     "output_type": "execute_result"
    }
   ],
   "source": [
    "binning.aggregatorConfigs = Aggregators([ag])\n",
    "binning.bandConfigurations = BinningOutputBands([bb])\n",
    "binning"
   ]
  },
  {
   "cell_type": "code",
   "execution_count": 37,
   "metadata": {},
   "outputs": [],
   "source": [
    "import os\n",
    "os.environ['PATH'] = '/srv/conda/envs/env_snap/snap/bin:' +  os.environ['PATH']"
   ]
  },
  {
   "cell_type": "code",
   "execution_count": 38,
   "metadata": {},
   "outputs": [
    {
     "name": "stdout",
     "output_type": "stream",
     "text": [
      "aggregatorConfigs <snapista.binning.aggregators.Aggregators object at 0x7fa0c41e8e20>\n",
      "bandConfigurations <snapista.binning.output_bands.BinningOutputBands object at 0x7fa0c41e8e50>\n",
      "postProcessorConfig None\n",
      "productCustomizerConfig None\n",
      "variableConfigs None\n"
     ]
    }
   ],
   "source": [
    "g = Graph()\n",
    "\n",
    "g.add_node(operator=binning, \n",
    "           node_id='binning_1')"
   ]
  },
  {
   "cell_type": "code",
   "execution_count": 39,
   "metadata": {},
   "outputs": [
    {
     "name": "stdout",
     "output_type": "stream",
     "text": [
      "<graph>\n",
      "  <version>1.0</version>\n",
      "  <node id=\"binning_1\">\n",
      "    <operator>Binning</operator>\n",
      "    <sources/>\n",
      "    <parameters class=\"com.bc.ceres.binding.dom.XppDomElement\">\n",
      "      <aggregators>\n",
      "        <aggregator>\n",
      "          <type>AVG</type>\n",
      "          <varName>pippo</varName>\n",
      "          <targetName>target_name</targetName>\n",
      "          <weightCoeff>0.0</weightCoeff>\n",
      "          <outputCounts>true</outputCounts>\n",
      "          <outputSums>true</outputSums>\n",
      "        </aggregator>\n",
      "      </aggregators>\n",
      "      <outputBands>\n",
      "        <band>\n",
      "          <index>0</index>\n",
      "          <name>aa</name>\n",
      "          <minValue>0</minValue>\n",
      "          <maxValue>100</maxValue>\n",
      "        </band>\n",
      "      </outputBands>\n",
      "      <maskExpr/>\n",
      "      <maxDistanceOnEarth>-1</maxDistanceOnEarth>\n",
      "      <metadataAggregatorName>NAME</metadataAggregatorName>\n",
      "      <metadataPropertiesFile>./metadata.properties</metadataPropertiesFile>\n",
      "      <metadataTemplateDir>.</metadataTemplateDir>\n",
      "      <minDataHour/>\n",
      "      <numRows>2160</numRows>\n",
      "      <outputBinnedData>false</outputBinnedData>\n",
      "      <outputFile/>\n",
      "      <outputFormat>BEAM-DIMAP</outputFormat>\n",
      "      <outputTargetProduct>true</outputTargetProduct>\n",
      "      <outputType>Product</outputType>\n",
      "      <periodDuration/>\n",
      "      <planetaryGridClass>org.esa.snap.binning.support.SEAGrid</planetaryGridClass>\n",
      "      <region/>\n",
      "      <sourceGraphPaths/>\n",
      "      <sourceProductFormat/>\n",
      "      <sourceProductPaths/>\n",
      "      <startDateTime/>\n",
      "      <superSampling>1</superSampling>\n",
      "      <timeFilterMethod>NONE</timeFilterMethod>\n",
      "    </parameters>\n",
      "  </node>\n",
      "</graph>\n",
      "\n"
     ]
    }
   ],
   "source": [
    "g.view()"
   ]
  },
  {
   "cell_type": "code",
   "execution_count": 40,
   "metadata": {},
   "outputs": [
    {
     "name": "stdout",
     "output_type": "stream",
     "text": [
      "aggregatorConfigs <snapista.binning.aggregators.Aggregators object at 0x7fa0c41e8640>\n",
      "bandConfigurations <snapista.binning.output_bands.BinningOutputBands object at 0x7fa0c41e80a0>\n",
      "postProcessorConfig None\n",
      "productCustomizerConfig None\n",
      "variableConfigs <snapista.binning.binning_variables.BinningVariables object at 0x7fa0c41e8250>\n"
     ]
    }
   ],
   "source": [
    "%reload_ext autoreload\n",
    "%autoreload 2\n",
    "\n",
    "from snapista.binning import aggregators\n",
    "from snapista.binning import BinningVariable, BinningOutputBands, BinningBand, Aggregators, BinningVariables\n",
    "from snapista import Graph\n",
    "from snapista import Operator\n",
    "import lxml.etree as etree\n",
    "import os\n",
    "\n",
    "os.environ['PATH'] = '/srv/conda/envs/env_snap/snap/bin:' +  os.environ['PATH']\n",
    "\n",
    "ag = aggregators.AggregatorAvg(varName='pippo', targetName=\"target_name\", outputCounts='true')\n",
    "bv = BinningVariable(name='pippo', expression='aa', valid_expression='aa')\n",
    "bb = BinningBand(index=\"0\", name='aa', minValue=0, maxValue=100)\n",
    "\n",
    "binning = Operator('Binning')\n",
    "\n",
    "binning.aggregatorConfigs = Aggregators([ag])\n",
    "binning.bandConfigurations = BinningOutputBands([bb])\n",
    "binning.variableConfigs = BinningVariables([bv])\n",
    "g = Graph()\n",
    "\n",
    "g.add_node(operator=binning, \n",
    "           node_id='binning_1')"
   ]
  },
  {
   "cell_type": "code",
   "execution_count": 41,
   "metadata": {},
   "outputs": [
    {
     "name": "stdout",
     "output_type": "stream",
     "text": [
      "<graph>\n",
      "  <version>1.0</version>\n",
      "  <node id=\"binning_1\">\n",
      "    <operator>Binning</operator>\n",
      "    <sources/>\n",
      "    <parameters class=\"com.bc.ceres.binding.dom.XppDomElement\">\n",
      "      <aggregators>\n",
      "        <aggregator>\n",
      "          <type>AVG</type>\n",
      "          <varName>pippo</varName>\n",
      "          <targetName>target_name</targetName>\n",
      "          <weightCoeff>0.0</weightCoeff>\n",
      "          <outputCounts>true</outputCounts>\n",
      "          <outputSums>true</outputSums>\n",
      "        </aggregator>\n",
      "      </aggregators>\n",
      "      <outputBands>\n",
      "        <band>\n",
      "          <index>0</index>\n",
      "          <name>aa</name>\n",
      "          <minValue>0</minValue>\n",
      "          <maxValue>100</maxValue>\n",
      "        </band>\n",
      "      </outputBands>\n",
      "      <maskExpr/>\n",
      "      <maxDistanceOnEarth>-1</maxDistanceOnEarth>\n",
      "      <metadataAggregatorName>NAME</metadataAggregatorName>\n",
      "      <metadataPropertiesFile>./metadata.properties</metadataPropertiesFile>\n",
      "      <metadataTemplateDir>.</metadataTemplateDir>\n",
      "      <minDataHour/>\n",
      "      <numRows>2160</numRows>\n",
      "      <outputBinnedData>false</outputBinnedData>\n",
      "      <outputFile/>\n",
      "      <outputFormat>BEAM-DIMAP</outputFormat>\n",
      "      <outputTargetProduct>true</outputTargetProduct>\n",
      "      <outputType>Product</outputType>\n",
      "      <periodDuration/>\n",
      "      <planetaryGridClass>org.esa.snap.binning.support.SEAGrid</planetaryGridClass>\n",
      "      <region/>\n",
      "      <sourceGraphPaths/>\n",
      "      <sourceProductFormat/>\n",
      "      <sourceProductPaths/>\n",
      "      <startDateTime/>\n",
      "      <superSampling>1</superSampling>\n",
      "      <timeFilterMethod>NONE</timeFilterMethod>\n",
      "      <variables>\n",
      "        <variable>\n",
      "          <name>pippo</name>\n",
      "          <expr>aa</expr>\n",
      "          <validExpr>aa</validExpr>\n",
      "        </variable>\n",
      "      </variables>\n",
      "    </parameters>\n",
      "  </node>\n",
      "</graph>\n",
      "\n"
     ]
    }
   ],
   "source": [
    "g.view()"
   ]
  }
 ],
 "metadata": {
  "kernelspec": {
   "display_name": "Python 3",
   "language": "python",
   "name": "python3"
  },
  "language_info": {
   "codemirror_mode": {
    "name": "ipython",
    "version": 3
   },
   "file_extension": ".py",
   "mimetype": "text/x-python",
   "name": "python",
   "nbconvert_exporter": "python",
   "pygments_lexer": "ipython3",
   "version": "3.9.9"
  }
 },
 "nbformat": 4,
 "nbformat_minor": 4
}
